{
 "cells": [
  {
   "cell_type": "code",
   "execution_count": 1,
   "id": "b2683127",
   "metadata": {},
   "outputs": [
    {
     "name": "stdout",
     "output_type": "stream",
     "text": [
      "Defaulting to user installation because normal site-packages is not writeable\n",
      "Requirement already satisfied: numpy in c:\\programdata\\anaconda3\\lib\\site-packages (1.24.3)\n",
      "Note: you may need to restart the kernel to use updated packages.\n"
     ]
    }
   ],
   "source": [
    "pip install numpy"
   ]
  },
  {
   "cell_type": "code",
   "execution_count": 1,
   "id": "0486d721",
   "metadata": {},
   "outputs": [],
   "source": [
    "import numpy as np"
   ]
  },
  {
   "cell_type": "code",
   "execution_count": 2,
   "id": "49d0809c",
   "metadata": {},
   "outputs": [
    {
     "name": "stdout",
     "output_type": "stream",
     "text": [
      "enter your name:Kiana\n",
      "enter your name:Nooria\n",
      "enter your name:Nico\n",
      "enter your name:Reyhane\n",
      "enter your name:bita\n"
     ]
    }
   ],
   "source": [
    "name_1=input(\"enter your name:\")\n",
    "name_2=input(\"enter your name:\")\n",
    "name_3=input(\"enter your name:\")\n",
    "name_4=input(\"enter your name:\")\n",
    "name_5=input(\"enter your name:\")"
   ]
  },
  {
   "cell_type": "code",
   "execution_count": 3,
   "id": "eef6dc81",
   "metadata": {},
   "outputs": [
    {
     "name": "stdout",
     "output_type": "stream",
     "text": [
      "Kiana_scores:15.0\n",
      "Kiana_scores:18.5\n",
      "Kiana_scores:16.0\n",
      "Kiana_scores:14.0\n",
      "Kiana_scores:19.25\n",
      "Kiana_scores:13.0\n",
      "Kiana_scores:10.0\n",
      "Kiana_scores:20.0\n",
      "Kiana_scores:17.0\n",
      "Kiana_scores:14.0\n",
      "[15.   18.5  16.   14.   19.25 13.   10.   20.   17.   14.  ]\n"
     ]
    }
   ],
   "source": [
    "my_array = []\n",
    "for i in range(10):\n",
    "    my_array.append(float(input(\"Kiana_scores:\")))\n",
    "my_array = np.array(my_array)\n",
    "print(my_array)"
   ]
  },
  {
   "cell_type": "code",
   "execution_count": 4,
   "id": "f0dfb786",
   "metadata": {},
   "outputs": [
    {
     "name": "stdout",
     "output_type": "stream",
     "text": [
      "Nooria_scores:16\n",
      "Nooria_scores:18\n",
      "Nooria_scores:12\n",
      "Nooria_scores:14\n",
      "Nooria_scores:13\n",
      "Nooria_scores:18.5\n",
      "Nooria_scores:19.85\n",
      "Nooria_scores:20\n",
      "Nooria_scores:17\n",
      "Nooria_scores:15\n",
      "[16.   18.   12.   14.   13.   18.5  19.85 20.   17.   15.  ]\n"
     ]
    }
   ],
   "source": [
    "my_array2 = []\n",
    "for i in range(10):\n",
    "    my_array2.append(float(input(\"Nooria_scores:\")))\n",
    "my_array2 = np.array(my_array2)\n",
    "print(my_array2)"
   ]
  },
  {
   "cell_type": "code",
   "execution_count": 5,
   "id": "da4aa1e9",
   "metadata": {},
   "outputs": [
    {
     "name": "stdout",
     "output_type": "stream",
     "text": [
      "Nico_scores:19\n",
      "Nico_scores:20\n",
      "Nico_scores:18.5\n",
      "Nico_scores:17\n",
      "Nico_scores:15\n",
      "Nico_scores:16\n",
      "Nico_scores:18\n",
      "Nico_scores:19.25\n",
      "Nico_scores:20\n",
      "Nico_scores:20\n",
      "[19.   20.   18.5  17.   15.   16.   18.   19.25 20.   20.  ]\n"
     ]
    }
   ],
   "source": [
    "my_array3 = []\n",
    "for i in range(10):\n",
    "    my_array3.append(float(input(\"Nico_scores:\")))\n",
    "my_array3 = np.array(my_array3)\n",
    "print(my_array3)"
   ]
  },
  {
   "cell_type": "code",
   "execution_count": 6,
   "id": "ed1c6670",
   "metadata": {},
   "outputs": [
    {
     "name": "stdout",
     "output_type": "stream",
     "text": [
      "Reyhane_scores:6.5\n",
      "Reyhane_scores:8.5\n",
      "Reyhane_scores:10.5\n",
      "Reyhane_scores:12.5\n",
      "Reyhane_scores:14.5\n",
      "Reyhane_scores:16\n",
      "Reyhane_scores:18\n",
      "Reyhane_scores:20\n",
      "Reyhane_scores:16.5\n",
      "Reyhane_scores:17\n",
      "[ 6.5  8.5 10.5 12.5 14.5 16.  18.  20.  16.5 17. ]\n"
     ]
    }
   ],
   "source": [
    "my_array4 = []\n",
    "for i in range(10):\n",
    "    my_array4.append(float(input(\"Reyhane_scores:\")))\n",
    "my_array4 = np.array(my_array4)\n",
    "print(my_array4)"
   ]
  },
  {
   "cell_type": "code",
   "execution_count": 7,
   "id": "28dd2fc3",
   "metadata": {},
   "outputs": [
    {
     "name": "stdout",
     "output_type": "stream",
     "text": [
      "bita_scores:10\n",
      "bita_scores:13\n",
      "bita_scores:1\n",
      "bita_scores:11\n",
      "bita_scores:15.25\n",
      "bita_scores:17\n",
      "bita_scores:19\n",
      "bita_scores:18\n",
      "bita_scores:20\n",
      "bita_scores:14.5\n",
      "[10.   13.    1.   11.   15.25 17.   19.   18.   20.   14.5 ]\n"
     ]
    }
   ],
   "source": [
    "my_array5 = []\n",
    "for i in range(10):\n",
    "    my_array5.append(float(input(\"bita_scores:\")))\n",
    "my_array5 = np.array(my_array5)\n",
    "print(my_array5)"
   ]
  },
  {
   "cell_type": "code",
   "execution_count": 18,
   "id": "89f7bba0",
   "metadata": {},
   "outputs": [
    {
     "name": "stdout",
     "output_type": "stream",
     "text": [
      "['Kiana', 15.675] ['Nooria', 16.335] ['Nico', 18.275] ['Reyhane', 14.0] ['bita', 13.875]\n"
     ]
    }
   ],
   "source": [
    "mean_1 = np.mean(my_array)\n",
    "Kiana_scores = [name_1,mean_1]\n",
    "\n",
    "mean_2 = np.mean(my_array2)\n",
    "Nooria_scores = [name_2,mean_2]\n",
    "\n",
    "mean_3 = np.mean(my_array3)\n",
    "Nico_scores = [name_3,mean_3]\n",
    "\n",
    "mean_4 = np.mean(my_array4)\n",
    "Reyhane_scores = [name_4,mean_4]\n",
    "\n",
    "mean_5 = np.mean(my_array5)\n",
    "bita_scores = [name_5,mean_5]\n",
    "\n",
    "print(Kiana_scores,Nooria_scores,Nico_scores,Reyhane_scores,bita_scores)"
   ]
  }
 ],
 "metadata": {
  "kernelspec": {
   "display_name": "Python 3 (ipykernel)",
   "language": "python",
   "name": "python3"
  },
  "language_info": {
   "codemirror_mode": {
    "name": "ipython",
    "version": 3
   },
   "file_extension": ".py",
   "mimetype": "text/x-python",
   "name": "python",
   "nbconvert_exporter": "python",
   "pygments_lexer": "ipython3",
   "version": "3.11.1"
  }
 },
 "nbformat": 4,
 "nbformat_minor": 5
}
