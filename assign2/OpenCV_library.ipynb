{
 "cells": [
  {
   "cell_type": "markdown",
   "id": "50a0097a",
   "metadata": {},
   "source": [
    "# cv2.rectangle"
   ]
  },
  {
   "cell_type": "markdown",
   "id": "fa3386e7",
   "metadata": {},
   "source": [
    "Import OpenCV library"
   ]
  },
  {
   "cell_type": "code",
   "execution_count": null,
   "id": "86a6c676",
   "metadata": {},
   "outputs": [],
   "source": [
    "import cv2"
   ]
  },
  {
   "cell_type": "markdown",
   "id": "4899c7ce",
   "metadata": {},
   "source": [
    "Loading the image"
   ]
  },
  {
   "cell_type": "code",
   "execution_count": null,
   "id": "1814ef12",
   "metadata": {},
   "outputs": [],
   "source": [
    "image = cv2.imread(r\"c:\\Users\\ImanHamrah\\Desktop\\happy face.jpg\")"
   ]
  },
  {
   "cell_type": "markdown",
   "id": "0cbd7a3d",
   "metadata": {},
   "source": [
    "Resizing image"
   ]
  },
  {
   "cell_type": "code",
   "execution_count": null,
   "id": "e11c8280",
   "metadata": {},
   "outputs": [],
   "source": [
    "image = cv2.resize(image,(300,500))"
   ]
  },
  {
   "cell_type": "markdown",
   "id": "76ab08eb",
   "metadata": {},
   "source": [
    "Draw a rectangle around face"
   ]
  },
  {
   "cell_type": "code",
   "execution_count": null,
   "id": "feda31db",
   "metadata": {},
   "outputs": [],
   "source": [
    "image = cv2.rectangle(image, (200,50),(117,130),(0, 0, 0), (5))"
   ]
  },
  {
   "cell_type": "markdown",
   "id": "cf847cbe",
   "metadata": {},
   "source": [
    "Cutting the face"
   ]
  },
  {
   "cell_type": "markdown",
   "id": "6752c834",
   "metadata": {},
   "source": [
    "image = image[50:200,50:205]"
   ]
  },
  {
   "cell_type": "markdown",
   "id": "a55eab47",
   "metadata": {},
   "source": [
    "Save the image"
   ]
  },
  {
   "cell_type": "code",
   "execution_count": null,
   "id": "c3d9720e",
   "metadata": {},
   "outputs": [],
   "source": [
    "cv2.imwrite(r\"c:\\Users\\ImanHamrah\\Desktop\\sad_face.jpg\", image)"
   ]
  },
  {
   "cell_type": "code",
   "execution_count": null,
   "id": "d6305aa2",
   "metadata": {},
   "outputs": [],
   "source": [
    "cv2.imshow(\"sad_face\", image)"
   ]
  },
  {
   "cell_type": "markdown",
   "id": "074aa55b",
   "metadata": {},
   "source": [
    "Show the image"
   ]
  },
  {
   "cell_type": "code",
   "execution_count": null,
   "id": "d1d2dbaa",
   "metadata": {},
   "outputs": [],
   "source": [
    "cv2.waitKey(0)"
   ]
  },
  {
   "cell_type": "code",
   "execution_count": null,
   "id": "712883f0",
   "metadata": {},
   "outputs": [],
   "source": [
    "cv2.destroyAllWindows()"
   ]
  }
 ],
 "metadata": {
  "kernelspec": {
   "display_name": "Python 3 (ipykernel)",
   "language": "python",
   "name": "python3"
  },
  "language_info": {
   "codemirror_mode": {
    "name": "ipython",
    "version": 3
   },
   "file_extension": ".py",
   "mimetype": "text/x-python",
   "name": "python",
   "nbconvert_exporter": "python",
   "pygments_lexer": "ipython3",
   "version": "3.11.5"
  }
 },
 "nbformat": 4,
 "nbformat_minor": 5
}
