{
 "cells": [
  {
   "cell_type": "markdown",
   "id": "971e733f",
   "metadata": {},
   "source": [
    "# Python Excercise"
   ]
  },
  {
   "cell_type": "markdown",
   "id": "099167b4",
   "metadata": {},
   "source": [
    "## we want run some python code"
   ]
  },
  {
   "cell_type": "markdown",
   "id": "fcc4e83b",
   "metadata": {},
   "source": [
    "ex1.write python code that get numeber from user and sort them"
   ]
  },
  {
   "cell_type": "code",
   "execution_count": 26,
   "id": "fa997c49",
   "metadata": {},
   "outputs": [
    {
     "name": "stdout",
     "output_type": "stream",
     "text": [
      "Sorted numbers: [5, 10, 15, 20]\n"
     ]
    }
   ],
   "source": [
    "numbers = '5,15,10,20'\n",
    "number_list = numbers.split(',')\n",
    "int_numbers = [int(num) for num in number_list]\n",
    "\n",
    "number_tuple = tuple(int_numbers)\n",
    "\n",
    "number_list = list(number_tuple)\n",
    "\n",
    "number_list.sort()\n",
    "\n",
    "print(\"Sorted numbers:\", number_list)"
   ]
  },
  {
   "cell_type": "markdown",
   "id": "70528fb2",
   "metadata": {},
   "source": [
    "ex2.write a python programm to fine max and min of list of number"
   ]
  },
  {
   "cell_type": "code",
   "execution_count": 39,
   "id": "c4903f09",
   "metadata": {},
   "outputs": [
    {
     "name": "stdout",
     "output_type": "stream",
     "text": [
      "5\n",
      "20\n"
     ]
    }
   ],
   "source": [
    "my_list = [5, 10, 15, 20]\n",
    "list_min = min(my_list)\n",
    "list_max = max(my_list)\n",
    "\n",
    "print(list_min)\n",
    "print(list_max)"
   ]
  },
  {
   "cell_type": "markdown",
   "id": "b1fce671",
   "metadata": {},
   "source": [
    "ex3.write a python program that count number of characters in a string."
   ]
  },
  {
   "cell_type": "code",
   "execution_count": 40,
   "id": "f6e497e3",
   "metadata": {},
   "outputs": [
    {
     "name": "stdout",
     "output_type": "stream",
     "text": [
      "17\n"
     ]
    }
   ],
   "source": [
    "my_string = \"nooria.keivanfard\"\n",
    "len_string = len(my_string)\n",
    "print(len_string)"
   ]
  },
  {
   "cell_type": "markdown",
   "id": "ec8b0575",
   "metadata": {},
   "source": [
    "ex4.write a python code to find all the pairs in a list whose sum is equal to 10"
   ]
  },
  {
   "cell_type": "code",
   "execution_count": 41,
   "id": "190cfe5c",
   "metadata": {},
   "outputs": [
    {
     "name": "stdout",
     "output_type": "stream",
     "text": [
      "[(1, 9), (2, 8), (3, 7), (4, 6)]\n"
     ]
    }
   ],
   "source": [
    "numbers = [1, 2, 3, 4, 5, 6, 7, 8, 9]\n",
    "list_numbers = []\n",
    "\n",
    "for i in range(len(numbers)):\n",
    "    for j in range(i+1, len(numbers)):\n",
    "        if numbers[i] + numbers[j] == 10:\n",
    "            list_numbers.append((numbers[i], numbers[j]))\n",
    "\n",
    "print(list_numbers)"
   ]
  },
  {
   "cell_type": "markdown",
   "id": "79630bf1",
   "metadata": {},
   "source": [
    "ex5. Write a Python program to combine two dictionary by adding values for common keys."
   ]
  },
  {
   "cell_type": "code",
   "execution_count": 44,
   "id": "016aa9cf",
   "metadata": {},
   "outputs": [
    {
     "name": "stdout",
     "output_type": "stream",
     "text": [
      "{'a': 1, 'b': 7, 'c': 9, 'd': 4}\n"
     ]
    }
   ],
   "source": [
    "dict1 = {'a': 1, 'b': 2, 'c': 3}\n",
    "dict2 = {'b': 5, 'c': 6, 'd': 4}\n",
    "\n",
    "combined_dict = {}\n",
    "\n",
    "for key, value in dict1.items():\n",
    "    combined_dict[key] = value\n",
    "    \n",
    "for key, value in dict2.items():\n",
    "    if key in combined_dict:\n",
    "        combined_dict[key] += value\n",
    "    else:\n",
    "        combined_dict[key] = value\n",
    "\n",
    "print(combined_dict)"
   ]
  },
  {
   "cell_type": "markdown",
   "id": "e586d09a",
   "metadata": {},
   "source": [
    "ex6.write a Python program to compute the sum of all the elements of each tuple stored inside a list of tuples."
   ]
  },
  {
   "cell_type": "code",
   "execution_count": 1,
   "id": "099e9140",
   "metadata": {},
   "outputs": [
    {
     "name": "stdout",
     "output_type": "stream",
     "text": [
      "[3, 5, 7]\n"
     ]
    }
   ],
   "source": [
    "numbers = [(1,2), (2,3), (3,4)]\n",
    "\n",
    "def test(lst):\n",
    "    result =  map(sum, lst)\n",
    "    return list(result)\n",
    "\n",
    "print(test(numbers))"
   ]
  },
  {
   "cell_type": "markdown",
   "id": "e191765a",
   "metadata": {},
   "source": [
    "ex7.given two sets of numbers, write a Python program to find the missing numbers in the second set as compared to the first and vice versa. Use the Python set."
   ]
  },
  {
   "cell_type": "code",
   "execution_count": 11,
   "id": "00d74f4e",
   "metadata": {},
   "outputs": [
    {
     "name": "stdout",
     "output_type": "stream",
     "text": [
      "{2, 3, 4}\n"
     ]
    }
   ],
   "source": [
    "first_set = {5, 6, 7, 8, 9, 10, 11, 12, 13, 14, 15, 16, 17, 18, 19, 20}\n",
    "second_set = {2, 3, 4, 5, 6, 7, 8, 9, 10}\n",
    "result_set = second_set - first_set\n",
    "print(result_set)"
   ]
  },
  {
   "cell_type": "markdown",
   "id": "4bb8d0fb",
   "metadata": {},
   "source": [
    "ex8.Write a Python function to print the even numbers from a given list."
   ]
  },
  {
   "cell_type": "code",
   "execution_count": 3,
   "id": "058a6fb4",
   "metadata": {},
   "outputs": [
    {
     "name": "stdout",
     "output_type": "stream",
     "text": [
      "10 20 30 "
     ]
    }
   ],
   "source": [
    "my_list = [5, 10, 15, 20, 25, 30]\n",
    "for num in my_list:\n",
    "    if num % 2 == 0:\n",
    "        print(num, end=\" \")"
   ]
  },
  {
   "cell_type": "markdown",
   "id": "fc2bb18a",
   "metadata": {},
   "source": [
    "ex9.write a function that takes a list of numbers from 1 to n (with one number missing) and returns the missing number"
   ]
  },
  {
   "cell_type": "code",
   "execution_count": 54,
   "id": "3f04d33f",
   "metadata": {},
   "outputs": [
    {
     "name": "stdout",
     "output_type": "stream",
     "text": [
      "Missing number: 2\n"
     ]
    }
   ],
   "source": [
    "def findMissing(numbers, num):\n",
    "\n",
    "    temp = [0] * (num + 1)\n",
    "\n",
    "    for i in range(0, num):\n",
    "        temp[numbers[i] - 1] = 1\n",
    "\n",
    "    for i in range(0, num + 1):\n",
    "        if(temp[i] == 0):\n",
    "            missing_number = i + 1\n",
    "    print(\"Missing number:\", missing_number)\n",
    "if __name__ == '__main__':\n",
    "    numbers = [1, 3, 4, 5]\n",
    "    N = len(numbers)\n",
    "\n",
    "    findMissing(numbers, N)"
   ]
  }
 ],
 "metadata": {
  "kernelspec": {
   "display_name": "Python 3 (ipykernel)",
   "language": "python",
   "name": "python3"
  },
  "language_info": {
   "codemirror_mode": {
    "name": "ipython",
    "version": 3
   },
   "file_extension": ".py",
   "mimetype": "text/x-python",
   "name": "python",
   "nbconvert_exporter": "python",
   "pygments_lexer": "ipython3",
   "version": "3.10.13"
  }
 },
 "nbformat": 4,
 "nbformat_minor": 5
}
