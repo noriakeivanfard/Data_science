{
 "cells": [
  {
   "cell_type": "code",
   "execution_count": 1,
   "id": "b2683127",
   "metadata": {},
   "outputs": [
    {
     "name": "stdout",
     "output_type": "stream",
     "text": [
      "Defaulting to user installation because normal site-packages is not writeable\n",
      "Requirement already satisfied: numpy in c:\\programdata\\anaconda3\\lib\\site-packages (1.24.3)\n",
      "Note: you may need to restart the kernel to use updated packages.\n"
     ]
    }
   ],
   "source": [
    "pip install numpy"
   ]
  },
  {
   "cell_type": "code",
   "execution_count": 2,
   "id": "0486d721",
   "metadata": {},
   "outputs": [],
   "source": [
    "import numpy as np"
   ]
  },
  {
   "cell_type": "code",
   "execution_count": 7,
   "id": "eef6dc81",
   "metadata": {},
   "outputs": [
    {
     "name": "stdout",
     "output_type": "stream",
     "text": [
      "Kiana_scores:15\n",
      "Kiana_scores:14\n",
      "Kiana_scores:16\n",
      "Kiana_scores:18\n",
      "Kiana_scores:17\n",
      "Kiana_scores:19\n",
      "Kiana_scores:20\n",
      "Kiana_scores:13\n",
      "Kiana_scores:12\n",
      "Kiana_scores:15\n",
      "[15. 14. 16. 18. 17. 19. 20. 13. 12. 15.]\n"
     ]
    }
   ],
   "source": [
    "my_array = []\n",
    "for i in range(10):\n",
    "    my_array.append(float(input(\"Kiana_scores:\")))\n",
    "my_array = np.array(my_array)\n",
    "print(my_array)"
   ]
  },
  {
   "cell_type": "code",
   "execution_count": 10,
   "id": "f0dfb786",
   "metadata": {},
   "outputs": [
    {
     "name": "stdout",
     "output_type": "stream",
     "text": [
      "Nooria_scores:14\n",
      "Nooria_scores:15\n",
      "Nooria_scores:16\n",
      "Nooria_scores:18\n",
      "Nooria_scores:17\n",
      "Nooria_scores:20\n",
      "Nooria_scores:10\n",
      "Nooria_scores:19\n",
      "Nooria_scores:13\n",
      "Nooria_scores:18\n",
      "[14. 15. 16. 18. 17. 20. 10. 19. 13. 18.]\n"
     ]
    }
   ],
   "source": [
    "my_array2 = []\n",
    "for i in range(10):\n",
    "    my_array2.append(float(input(\"Nooria_scores:\")))\n",
    "my_array2 = np.array(my_array2)\n",
    "print(my_array2)"
   ]
  },
  {
   "cell_type": "code",
   "execution_count": 20,
   "id": "da4aa1e9",
   "metadata": {},
   "outputs": [
    {
     "name": "stdout",
     "output_type": "stream",
     "text": [
      "Nico_scores:18.75\n",
      "Nico_scores:20\n",
      "Nico_scores:19\n",
      "Nico_scores:17\n",
      "Nico_scores:18\n",
      "Nico_scores:16\n",
      "Nico_scores:15.5\n",
      "Nico_scores:20\n",
      "Nico_scores:19\n",
      "Nico_scores:18.5\n",
      "[18.75 20.   19.   17.   18.   16.   15.5  20.   19.   18.5 ]\n"
     ]
    }
   ],
   "source": [
    "my_array3 = []\n",
    "for i in range(10):\n",
    "    my_array3.append(float(input(\"Nico_scores:\")))\n",
    "my_array3 = np.array(my_array3)\n",
    "print(my_array3)"
   ]
  },
  {
   "cell_type": "code",
   "execution_count": 21,
   "id": "ed1c6670",
   "metadata": {},
   "outputs": [
    {
     "name": "stdout",
     "output_type": "stream",
     "text": [
      "Reyhane_scores:12\n",
      "Reyhane_scores:13\n",
      "Reyhane_scores:8\n",
      "Reyhane_scores:18\n",
      "Reyhane_scores:15\n",
      "Reyhane_scores:14\n",
      "Reyhane_scores:18.5\n",
      "Reyhane_scores:19.25\n",
      "Reyhane_scores:20\n",
      "Reyhane_scores:16\n",
      "[12.   13.    8.   18.   15.   14.   18.5  19.25 20.   16.  ]\n"
     ]
    }
   ],
   "source": [
    "my_array4 = []\n",
    "for i in range(10):\n",
    "    my_array4.append(float(input(\"Reyhane_scores:\")))\n",
    "my_array4 = np.array(my_array4)\n",
    "print(my_array4)"
   ]
  },
  {
   "cell_type": "code",
   "execution_count": 22,
   "id": "28dd2fc3",
   "metadata": {},
   "outputs": [
    {
     "name": "stdout",
     "output_type": "stream",
     "text": [
      "bita_scores:1\n",
      "bita_scores:5\n",
      "bita_scores:15\n",
      "bita_scores:10\n",
      "bita_scores:14\n",
      "bita_scores:14.5\n",
      "bita_scores:16\n",
      "bita_scores:18\n",
      "bita_scores:17\n",
      "bita_scores:11\n",
      "[ 1.   5.  15.  10.  14.  14.5 16.  18.  17.  11. ]\n"
     ]
    }
   ],
   "source": [
    "my_array5 = []\n",
    "for i in range(10):\n",
    "    my_array5.append(float(input(\"bita_scores:\")))\n",
    "my_array5 = np.array(my_array5)\n",
    "print(my_array5)"
   ]
  },
  {
   "cell_type": "code",
   "execution_count": 23,
   "id": "89f7bba0",
   "metadata": {},
   "outputs": [
    {
     "name": "stdout",
     "output_type": "stream",
     "text": [
      "[array([15., 16., 18., 15., 20., 14., 17., 18., 16., 19.]), array([14., 15., 16., 18., 17., 20., 10., 19., 13., 18.]), array([18.75, 20.  , 19.  , 17.  , 18.  , 16.  , 15.5 , 20.  , 19.  ,\n",
      "       18.5 ]), array([12.  , 13.  ,  8.  , 18.  , 15.  , 14.  , 18.5 , 19.25, 20.  ,\n",
      "       16.  ]), array([ 1. ,  5. , 15. , 10. , 14. , 14.5, 16. , 18. , 17. , 11. ])]\n"
     ]
    }
   ],
   "source": [
    "Kiana_scores = [my_array]\n",
    "Nooria_scores = [my_array2]\n",
    "Nico_scores = [my_array3]\n",
    "Reyhane_scores = [my_array4]\n",
    "bita_scores = [my_array5]\n",
    "\n",
    "scores = [*Kiana_scores, *Nooria_scores, *Nico_scores, *Reyhane_scores, *bita_scores ]\n",
    " \n",
    "print (str(scores))"
   ]
  }
 ],
 "metadata": {
  "kernelspec": {
   "display_name": "Python 3 (ipykernel)",
   "language": "python",
   "name": "python3"
  },
  "language_info": {
   "codemirror_mode": {
    "name": "ipython",
    "version": 3
   },
   "file_extension": ".py",
   "mimetype": "text/x-python",
   "name": "python",
   "nbconvert_exporter": "python",
   "pygments_lexer": "ipython3",
   "version": "3.11.5"
  }
 },
 "nbformat": 4,
 "nbformat_minor": 5
}
